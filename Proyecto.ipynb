{
 "cells": [
  {
   "cell_type": "markdown",
   "metadata": {},
   "source": [
    "# Proyecto Imágenes Laboratorio Inteligencia\n",
    "\n",
    "### Profesor: Claudio Pérez\n",
    "### Auxiliar: Juan Pérez\n",
    "### Integrantes: Matías Osses - Ignacio - Alejandro\n",
    "\n",
    "El objetivo de este proyecto final es desarrollar e implementar un algoritmo de búsqueda de imágenes similares basado en su contenido (Content Based Image Retrieval, CBIR) utilizando distintos métodos de extracción de características. Para el desarrollo de este proyecto debe descargar la base de datos INRIA Holidays dataset. Debe descargar los archivos jpg1.tar.gz y jpg2.tar.gz que contienen imágenes de consulta para 500 clases distintas y las imágenes que deberán ser almacenadas en el buscador, y que están asociadas a esas 500 clases. La figura 1 muestra las principales etapas de un sistema CBIR.\n",
    "\n",
    "\n",
    "## Importación de librerías"
   ]
  },
  {
   "cell_type": "code",
   "execution_count": 7,
   "metadata": {},
   "outputs": [],
   "source": [
    "import os\n",
    "import copy\n",
    "\n",
    "import cv2\n",
    "import numpy as np\n",
    "import matplotlib.pyplot as plt\n"
   ]
  },
  {
   "cell_type": "markdown",
   "metadata": {},
   "source": [
    "## Cálculo de vector de características"
   ]
  },
  {
   "cell_type": "code",
   "execution_count": 49,
   "metadata": {},
   "outputs": [],
   "source": [
    "class Imagen():\n",
    "    \n",
    "    def __init__(self, path):\n",
    "        self.nombre = path.split('\\\\')[-1]\n",
    "        self.img = cv2.imread(path)\n",
    "        self.img = cv2.cvtColor(self.img, cv2.COLOR_BGR2HSV)\n",
    "        self.histogramas = dict()\n",
    "        \n",
    "    def division(self, n=3):\n",
    "        nombre = '%sx%s'%(n,n)\n",
    "        rows, cols, depth = self.img.shape\n",
    "        histH = []\n",
    "        histS = []\n",
    "        histV = []\n",
    "        for y in range(0, rows, n):\n",
    "            for x in range(0, cols, n):\n",
    "                celda = self.img[y:y+n, x:x+n, 0]\n",
    "                histH.append(np.histogram(celda, bins=np.linspace(0,255,8)))\n",
    "                celda = self.img[y:y+n, x:x+n, 1]\n",
    "                histS.append(np.histogram(celda, bins=np.linspace(0,255,12)))\n",
    "                celda = self.img[y:y+n, x:x+n, 2]\n",
    "                histV.append(np.histogram(celda, bins=np.linspace(0,255,3))) \n",
    "        \n",
    "        self.histogramas[nombre+'_H'] = np.array(histH)\n",
    "        self.histogramas[nombre+'_S'] = np.array(histS)\n",
    "        self.histogramas[nombre+'_V'] = np.array(histV)\n",
    "        \n",
    "    def calcularVectorCaracteristicas(self):\n",
    "        self.division(3)\n",
    "        self.division(4)\n",
    "        self.division(6)\n",
    "        "
   ]
  },
  {
   "cell_type": "code",
   "execution_count": 50,
   "metadata": {
    "scrolled": false
   },
   "outputs": [
    {
     "name": "stdout",
     "output_type": "stream",
     "text": [
      "1920000\n",
      "1920000\n",
      "1920000\n"
     ]
    }
   ],
   "source": [
    "path = os.getcwd() + '\\jpg'\n",
    "img = path + '\\\\130000.jpg'\n",
    "\n",
    "a = Imagen(img)\n",
    "a.calcularVectorCaracteristicas()\n"
   ]
  },
  {
   "cell_type": "code",
   "execution_count": 51,
   "metadata": {
    "scrolled": false
   },
   "outputs": [
    {
     "ename": "IndexError",
     "evalue": "index 2 is out of bounds for axis 1 with size 2",
     "output_type": "error",
     "traceback": [
      "\u001b[1;31m---------------------------------------------------------------------------\u001b[0m",
      "\u001b[1;31mIndexError\u001b[0m                                Traceback (most recent call last)",
      "\u001b[1;32m<ipython-input-51-e8bbc81ef3dd>\u001b[0m in \u001b[0;36m<module>\u001b[1;34m\u001b[0m\n\u001b[1;32m----> 1\u001b[1;33m \u001b[0mprint\u001b[0m\u001b[1;33m(\u001b[0m\u001b[0ma\u001b[0m\u001b[1;33m.\u001b[0m\u001b[0mhistogramas\u001b[0m\u001b[1;33m[\u001b[0m\u001b[1;34m'3x3_H'\u001b[0m\u001b[1;33m]\u001b[0m\u001b[1;33m[\u001b[0m\u001b[1;36m1\u001b[0m\u001b[1;33m,\u001b[0m\u001b[1;36m2\u001b[0m\u001b[1;33m]\u001b[0m\u001b[1;33m)\u001b[0m\u001b[1;33m\u001b[0m\u001b[1;33m\u001b[0m\u001b[0m\n\u001b[0m",
      "\u001b[1;31mIndexError\u001b[0m: index 2 is out of bounds for axis 1 with size 2"
     ]
    }
   ],
   "source": [
    "print(a.histogramas['3x3_H'][1,2])"
   ]
  },
  {
   "cell_type": "code",
   "execution_count": 46,
   "metadata": {},
   "outputs": [
    {
     "name": "stdout",
     "output_type": "stream",
     "text": [
      "[  0.          36.42857143  72.85714286 109.28571429 145.71428571\n",
      " 182.14285714 218.57142857 255.        ]\n"
     ]
    }
   ],
   "source": [
    "print(np.linspace(0,255,8))"
   ]
  },
  {
   "cell_type": "code",
   "execution_count": null,
   "metadata": {},
   "outputs": [],
   "source": [
    "print()"
   ]
  }
 ],
 "metadata": {
  "@webio": {
   "lastCommId": null,
   "lastKernelId": null
  },
  "kernelspec": {
   "display_name": "Python 3",
   "language": "python",
   "name": "python3"
  },
  "language_info": {
   "codemirror_mode": {
    "name": "ipython",
    "version": 3
   },
   "file_extension": ".py",
   "mimetype": "text/x-python",
   "name": "python",
   "nbconvert_exporter": "python",
   "pygments_lexer": "ipython3",
   "version": "3.7.7"
  }
 },
 "nbformat": 4,
 "nbformat_minor": 4
}
