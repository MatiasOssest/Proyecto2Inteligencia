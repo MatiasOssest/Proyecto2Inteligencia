{
 "cells": [
  {
   "cell_type": "markdown",
   "metadata": {},
   "source": [
    "# Proyecto Imágenes Laboratorio Inteligencia\n",
    "\n",
    "### Profesor: Claudio Pérez\n",
    "### Auxiliar: Juan Pérez\n",
    "### Integrantes: Matías Osses - Ignacio - Alejandro\n",
    "\n",
    "El objetivo de este proyecto final es desarrollar e implementar un algoritmo de búsqueda de imágenes similares basado en su contenido (Content Based Image Retrieval, CBIR) utilizando distintos métodos de extracción de características. Para el desarrollo de este proyecto debe descargar la base de datos INRIA Holidays dataset. Debe descargar los archivos jpg1.tar.gz y jpg2.tar.gz que contienen imágenes de consulta para 500 clases distintas y las imágenes que deberán ser almacenadas en el buscador, y que están asociadas a esas 500 clases. La figura 1 muestra las principales etapas de un sistema CBIR.\n",
    "\n",
    "\n",
    "## Importación de librerías"
   ]
  },
  {
   "cell_type": "code",
   "execution_count": 1,
   "metadata": {},
   "outputs": [],
   "source": [
    "import os\n",
    "import copy\n",
    "import time\n",
    "\n",
    "import cv2\n",
    "import numpy as np\n",
    "import matplotlib.pyplot as plt\n",
    "\n",
    "from sklearn.preprocessing import normalize"
   ]
  },
  {
   "cell_type": "markdown",
   "metadata": {},
   "source": [
    "## Cálculo de vector de características"
   ]
  },
  {
   "cell_type": "code",
   "execution_count": 79,
   "metadata": {},
   "outputs": [],
   "source": [
    "class Imagen():\n",
    "    \n",
    "    def __init__(self, path):\n",
    "        self.nombre = path.split('\\\\')[-1]\n",
    "        self.img = cv2.imread(path)\n",
    "        self.img = cv2.cvtColor(self.img, cv2.COLOR_BGR2HSV)\n",
    "        self.histogramas = dict()\n",
    "        self.asd = dict()\n",
    "        \n",
    "    def division(self, n=3):\n",
    "        nombre = '%sx%s'%(n,n)\n",
    "        rows, cols, depth = self.img.shape\n",
    "        histH = []\n",
    "        histS = []\n",
    "        histV = []\n",
    "        div_y = np.linspace(0, rows, n+1).astype(int)\n",
    "        div_x = np.linspace(0, cols, n+1).astype(int)\n",
    "        for i, y in enumerate(div_y[1:]):\n",
    "            for j, x in enumerate(div_x[1:]):\n",
    "                celda = self.img[div_y[i]:div_y[i]+y, div_x[i]:div_x[i]+x, 0]\n",
    "                histH.append(np.histogram(celda, bins=8, density = True)[0])\n",
    "                celda = self.img[div_y[i]:div_y[i]+y, div_x[i]:div_x[i]+x, 1]\n",
    "                histS.append(np.histogram(celda, bins=12, density = True)[0])\n",
    "                celda = self.img[div_y[i]:div_y[i]+y, div_x[i]:div_x[i]+x, 2]\n",
    "                histV.append(np.histogram(celda, bins=3, density = True)[0]) \n",
    "                \n",
    "        self.histogramas[nombre+'_H'] = np.array(histH)\n",
    "        self.histogramas[nombre+'_S'] = np.array(histS)\n",
    "        self.histogramas[nombre+'_V'] = np.array(histV)\n",
    "    \n",
    "    def divisionNoRectangular(self):\n",
    "        heigth, width, _ = self.img.shape\n",
    "        center = (int(width/2), int(heigth/2))\n",
    "        axis = (int(width/2*0.8), int(heigth/2*0.8))\n",
    "\n",
    "        #elipse central\n",
    "        container = np.zeros((heigth,width))\n",
    "        r1 = (cv2.ellipse(container, center, axis, 0,0, 360, (255,255,255),-1)/255).astype(int)\n",
    "        #esquina superior izquierda\n",
    "        container = (container*0).astype(int)\n",
    "        r2 = (r1 == 0).astype(int) * cv2.rectangle(container, (0,0), center, (255,255,255), -1)\n",
    "        #esquina superior derecha\n",
    "        container = (container*0).astype(int)\n",
    "        r3 = (r1 == 0).astype(int) * cv2.rectangle(container, (int(width/2),0), (width, int(heigth/2) ), (255,255,255), -1)\n",
    "        #esquina inferior izquierda\n",
    "        container = (container*0).astype(int)\n",
    "        r4 = (r1 == 0).astype(int) *  cv2.rectangle(container, (0,int(heigth/2)), (int(width/2), heigth ), (255,255,255), -1)\n",
    "        #esquina inferior derecha\n",
    "        container = (container*0).astype(int)\n",
    "        r5 = (r1 == 0).astype(int) *  cv2.rectangle(container, center, (width,heigth), (255,255,255), -1)    \n",
    "       \n",
    "        \n",
    "        canal = ['H', 'S', 'V']\n",
    "        bins = [8, 12, 3]\n",
    "        \n",
    "        for (n,c,b) in zip(range(3),canal,bins):\n",
    "            v1 = self.img[:,:,n][r1 > 0]\n",
    "            v2 = self.img[:,:,n][r2 > 0]\n",
    "            v3 = self.img[:,:,n][r3 > 0]\n",
    "            v4 = self.img[:,:,n][r4 > 0]\n",
    "            v5 = self.img[:,:,n][r5 > 0]\n",
    "            self.histogramas['reg1_'+c] = np.histogram(v1, bins=b, density = True)[0]\n",
    "            self.histogramas['reg2_'+c] = np.histogram(v2, bins=b, density = True)[0]\n",
    "            self.histogramas['reg3_'+c] = np.histogram(v3, bins=b, density = True)[0]\n",
    "            self.histogramas['reg4_'+c] = np.histogram(v4, bins=b, density = True)[0]\n",
    "            self.histogramas['reg5_'+c] = np.histogram(v5, bins=b, density = True)[0]\n",
    "    \n",
    "\n",
    "    \n",
    "    def calcularVectorCaracteristicas(self):\n",
    "        self.division(3)\n",
    "        self.division(4)\n",
    "        self.division(6)\n",
    "        self.divisionNoRectangular()\n",
    "        \n",
    "        h = np.array([],dtype=int)\n",
    "        for key in self.histogramas.keys():\n",
    "            h = np.concatenate([h,self.histogramas[key].reshape(-1)])\n",
    "        return h\n",
    "        "
   ]
  },
  {
   "cell_type": "code",
   "execution_count": 82,
   "metadata": {
    "scrolled": false
   },
   "outputs": [
    {
     "name": "stdout",
     "output_type": "stream",
     "text": [
      "0.3139491081237793\n"
     ]
    }
   ],
   "source": [
    "path = os.getcwd() + '\\jpg'\n",
    "img = path + '\\\\100401.jpg'\n",
    "\n",
    "t = time.time()\n",
    "a = Imagen(img)\n",
    "hist = a.calcularVectorCaracteristicas()\n",
    "t2 = time.time()\n",
    "print(t2-t)\n"
   ]
  },
  {
   "cell_type": "code",
   "execution_count": 83,
   "metadata": {},
   "outputs": [
    {
     "data": {
      "text/plain": [
       "(1518,)"
      ]
     },
     "execution_count": 83,
     "metadata": {},
     "output_type": "execute_result"
    }
   ],
   "source": [
    "hist.shape"
   ]
  },
  {
   "cell_type": "markdown",
   "metadata": {},
   "source": [
    "## Distancias"
   ]
  },
  {
   "cell_type": "code",
   "execution_count": 4,
   "metadata": {},
   "outputs": [],
   "source": [
    "def euclidiana(x,y):\n",
    "    return np.sqrt(np.sum(x**2+y**2))\n",
    "\n",
    "def coseno(x,y): \n",
    "    num = np.dot(x,y)\n",
    "    den = np.sqrt((x**2).sum())*np.sqrt((y**2).sum())\n",
    "    return num/den\n",
    "\n",
    "def chi_cuadrado(x,y):\n",
    "    x_t = x.sum()\n",
    "    y_t = y.sum()\n",
    "    c = x + y\n",
    "    x_esperado = x_t*c/(x_t+y_t)\n",
    "    y_esperado = y_t*c/(x_t+y_t)\n",
    "    \n",
    "    return (((x-x_esperado)**2)/x_esperado).sum() + (((y-y_esperado)**2)/y_esperado).sum()\n",
    "    \n",
    "def cramer(x,y):\n",
    "    return(np.sqrt(chi_cuadrado(x,y)/(x.sum() + y.sum())))"
   ]
  },
  {
   "cell_type": "markdown",
   "metadata": {},
   "source": [
    "## Content Based Image Retrieval (CBIR)"
   ]
  },
  {
   "cell_type": "code",
   "execution_count": 5,
   "metadata": {},
   "outputs": [],
   "source": [
    "class CBIR():\n",
    "    \n",
    "    def __init__(self, distance):\n",
    "        self.distance = distance\n",
    "        self.database = list()\n",
    "    \n",
    "    def train(X):\n",
    "        for image in X:\n",
    "            self.database.append(Imagen(X).calcularVectorCaracteristicas())\n",
    "    def evaluar(Input):\n",
    "        scores = [self.distance(Input, x) for x in self.database]"
   ]
  },
  {
   "cell_type": "code",
   "execution_count": null,
   "metadata": {},
   "outputs": [],
   "source": []
  }
 ],
 "metadata": {
  "@webio": {
   "lastCommId": null,
   "lastKernelId": null
  },
  "kernelspec": {
   "display_name": "Python 3",
   "language": "python",
   "name": "python3"
  },
  "language_info": {
   "codemirror_mode": {
    "name": "ipython",
    "version": 3
   },
   "file_extension": ".py",
   "mimetype": "text/x-python",
   "name": "python",
   "nbconvert_exporter": "python",
   "pygments_lexer": "ipython3",
   "version": "3.7.8"
  }
 },
 "nbformat": 4,
 "nbformat_minor": 4
}
