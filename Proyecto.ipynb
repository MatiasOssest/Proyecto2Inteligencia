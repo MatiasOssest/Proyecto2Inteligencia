{
 "cells": [
  {
   "cell_type": "markdown",
   "metadata": {},
   "source": [
    "# Proyecto Imágenes Laboratorio Inteligencia\n",
    "\n",
    "### Profesor: Claudio Pérez\n",
    "### Auxiliar: Juan Pérez\n",
    "### Integrantes: Matías Osses - Ignacio - Alejandro\n",
    "\n",
    "El objetivo de este proyecto final es desarrollar e implementar un algoritmo de búsqueda de imágenes similares basado en su contenido (Content Based Image Retrieval, CBIR) utilizando distintos métodos de extracción de características. Para el desarrollo de este proyecto debe descargar la base de datos INRIA Holidays dataset. Debe descargar los archivos jpg1.tar.gz y jpg2.tar.gz que contienen imágenes de consulta para 500 clases distintas y las imágenes que deberán ser almacenadas en el buscador, y que están asociadas a esas 500 clases. La figura 1 muestra las principales etapas de un sistema CBIR.\n",
    "\n",
    "\n",
    "## Importación de librerías"
   ]
  },
  {
   "cell_type": "code",
   "execution_count": 93,
   "metadata": {},
   "outputs": [],
   "source": [
    "import os\n",
    "import copy\n",
    "import time\n",
    "\n",
    "import cv2\n",
    "import numpy as np\n",
    "import matplotlib.pyplot as plt\n",
    "\n",
    "from sklearn.preprocessing import normalize"
   ]
  },
  {
   "cell_type": "markdown",
   "metadata": {},
   "source": [
    "## Cálculo de vector de características"
   ]
  },
  {
   "cell_type": "code",
   "execution_count": 145,
   "metadata": {},
   "outputs": [],
   "source": [
    "\n",
    "\n",
    "class Imagen():\n",
    "    \n",
    "    def __init__(self, path):\n",
    "        self.nombre = path.split('\\\\')[-1]\n",
    "        self.img = cv2.imread(path)\n",
    "        self.img = cv2.cvtColor(self.img, cv2.COLOR_BGR2HSV)\n",
    "        self.histogramas = dict()\n",
    "        self.asd = dict()\n",
    "        \n",
    "    def division(self, n=3):\n",
    "        nombre = '%sx%s'%(n,n)\n",
    "        rows, cols, depth = self.img.shape\n",
    "        histH = []\n",
    "        histS = []\n",
    "        histV = []\n",
    "        for y in range(0, rows, int(rows/n)):\n",
    "            for x in range(0, cols, int(cols/n)):\n",
    "                celda = self.img[y:y+n, x:x+n, 0]\n",
    "                histH.append(np.histogram(celda, bins=8)[0])\n",
    "                celda = self.img[y:y+n, x:x+n, 1]\n",
    "                histS.append(np.histogram(celda, bins=12)[0])\n",
    "                celda = self.img[y:y+n, x:x+n, 2]\n",
    "                histV.append(np.histogram(celda, bins=3)[0]) \n",
    "                \n",
    "        self.histogramas[nombre+'_H'] = np.array(histH)\n",
    "        self.histogramas[nombre+'_S'] = np.array(histS)\n",
    "        self.histogramas[nombre+'_V'] = np.array(histV)\n",
    "        \n",
    "    def divisionNoRectangular(self):\n",
    "        \n",
    "        reg1 = []\n",
    "        reg2 = []\n",
    "        reg3 = []\n",
    "        reg4 = []\n",
    "        reg5 = []\n",
    "        rows, cols, _ =self.img.shape\n",
    "        \n",
    "        for x in range(cols):\n",
    "            for y in range(rows):\n",
    "                pertenencia = self.elipse(x,y)\n",
    "                if pertenencia == 5:\n",
    "                    reg5.append(self.img[y,x,:])\n",
    "                elif pertenencia == 1:\n",
    "                    reg1.append(self.img[y,x,:])\n",
    "                \n",
    "                elif pertenencia == 2:\n",
    "                    reg2.append(self.img[y,x,:])\n",
    "                \n",
    "                elif pertenencia == 3:\n",
    "                    reg3.append(self.img[y,x,:])\n",
    "                \n",
    "                else:\n",
    "                    reg4.append(self.img[y,x,:])\n",
    "        \n",
    "        reg1 = np.array(reg1)\n",
    "        reg2 = np.array(reg2)\n",
    "        reg3 = np.array(reg3)\n",
    "        reg4 = np.array(reg4)\n",
    "        reg5 = np.array(reg5)\n",
    "        canal = ['H', 'S', 'V']\n",
    "        bins = [8, 12, 3]\n",
    "        \n",
    "        for (n,c,b) in zip(range(3),canal,bins):\n",
    "            self.histogramas['reg1_'+c] = np.histogram(reg1[:,n], bins=b)[0]\n",
    "            self.histogramas['reg2_'+c] = np.histogram(reg2[:,n], bins=b)[0]\n",
    "            self.histogramas['reg3_'+c] = np.histogram(reg3[:,n], bins=b)[0]\n",
    "            self.histogramas['reg4_'+c] = np.histogram(reg4[:,n], bins=b)[0]\n",
    "            self.histogramas['reg5_'+c] = np.histogram(reg5[:,n], bins=b)[0]\n",
    "        \n",
    "    def elipse(self,x,y):\n",
    "        rows, cols, _ = self.img.shape\n",
    "        b = rows / 2\n",
    "        a = cols / 2\n",
    "        dentro = 1 if (x-a)**2/((a-10)**2) + (y - b)**2/((b-10)**2) < 1 else 0\n",
    "        \n",
    "        region1 = int(not dentro and x < a and y < b)\n",
    "        region2 = 2 * int(not dentro and x >= a and y < b)\n",
    "        region3 = 3 * int(not dentro and x < a and y >= b)\n",
    "        region4 = 4 * int(not dentro and x >= a and y >= b)\n",
    "        region5 = 5 * int(dentro)\n",
    "        \n",
    "        return region1 + region2 + region3 + region4 + region5\n",
    "    \n",
    "    def calcularVectorCaracteristicas(self):\n",
    "        self.division(3)\n",
    "        self.division(4)\n",
    "        self.division(6)\n",
    "        self.divisionNoRectangular()\n",
    "        \n",
    "        h = np.array([],dtype=int)\n",
    "        for key in self.histogramas.keys():\n",
    "            h = np.concatenate([h,self.histogramas[key].reshape(-1)])\n",
    "        return h\n",
    "        "
   ]
  },
  {
   "cell_type": "code",
   "execution_count": 146,
   "metadata": {
    "scrolled": false
   },
   "outputs": [
    {
     "name": "stdout",
     "output_type": "stream",
     "text": [
      "6.607273101806641\n"
     ]
    }
   ],
   "source": [
    "path = os.getcwd() + '\\jpg'\n",
    "img = path + '\\\\130000.jpg'\n",
    "\n",
    "t = time.time()\n",
    "a = Imagen(img)\n",
    "hist = a.calcularVectorCaracteristicas()\n",
    "t2 = time.time()\n",
    "print('tiempo de procesamiento para calcut2-t)"
   ]
  },
  {
   "cell_type": "markdown",
   "metadata": {},
   "source": [
    "## Distancias"
   ]
  },
  {
   "cell_type": "code",
   "execution_count": 4,
   "metadata": {},
   "outputs": [],
   "source": [
    "def euclidiana(x,y):\n",
    "    return np.sqrt(np.sum(x**2+y**2))\n",
    "\n",
    "def coseno(x,y): \n",
    "    num = np.dot(x,y)\n",
    "    den = np.sqrt((x**2).sum())*np.sqrt((y**2).sum())\n",
    "    return num/den\n",
    "\n",
    "def chi_cuadrado(x,y):\n",
    "    x_t = x.sum()\n",
    "    y_t = y.sum()\n",
    "    c = x + y\n",
    "    x_esperado = x_t*c/(x_t+y_t)\n",
    "    y_esperado = y_t*c/(x_t+y_t)\n",
    "    \n",
    "    return (((x-x_esperado)**2)/x_esperado).sum() + (((y-y_esperado)**2)/y_esperado).sum()\n",
    "    \n",
    "def cramer(x,y):\n",
    "    return(np.sqrt(chi_cuadrado(x,y)/(x.sum() + y.sum())))"
   ]
  },
  {
   "cell_type": "markdown",
   "metadata": {},
   "source": [
    "## Content Based Image Retrieval (CBIR)"
   ]
  },
  {
   "cell_type": "code",
   "execution_count": 5,
   "metadata": {},
   "outputs": [],
   "source": [
    "class CBIR():\n",
    "    \n",
    "    def __init__(self, distance):\n",
    "        self.distance = distance\n",
    "        self.database = list()\n",
    "    \n",
    "    def train(X):\n",
    "        for image in X:\n",
    "            self.database.append(Imagen(X).calcularVectorCaracteristicas())\n",
    "    def evaluar(Input):\n",
    "        scores = [self.distance(Input, x) for x in self.database]"
   ]
  },
  {
   "cell_type": "code",
   "execution_count": null,
   "metadata": {},
   "outputs": [],
   "source": []
  }
 ],
 "metadata": {
  "@webio": {
   "lastCommId": null,
   "lastKernelId": null
  },
  "kernelspec": {
   "display_name": "Python 3",
   "language": "python",
   "name": "python3"
  },
  "language_info": {
   "codemirror_mode": {
    "name": "ipython",
    "version": 3
   },
   "file_extension": ".py",
   "mimetype": "text/x-python",
   "name": "python",
   "nbconvert_exporter": "python",
   "pygments_lexer": "ipython3",
   "version": "3.7.7"
  }
 },
 "nbformat": 4,
 "nbformat_minor": 4
}
